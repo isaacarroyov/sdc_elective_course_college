{
 "cells": [
  {
   "cell_type": "markdown",
   "metadata": {},
   "source": [
    "<!--Información del curso-->\n",
    "<img align=\"left\" style=\"padding-right:10px;\" src=\"figures/banner_sdc.png\">\n"
   ]
  },
  {
   "cell_type": "markdown",
   "metadata": {},
   "source": [
    "<br><br><center><h1 style=\"font-size:2em;color:#2467C0\"> Basic of image manipulation </h1></center>\n",
    "<br>\n",
    "<table>\n",
    "<col width=\"550\">\n",
    "<col width=\"450\">\n",
    "<tr>\n",
    "    \n",
    "    \n",
    "<td><img src=\"figures/presentacion.png\" align=\"middle\" style=\"width:550px;\"/></td>\n",
    "<td>\n",
    "\n",
    "**OpenCV** is a free library originally developed by Intel. It saw the light of day in 1999. Originally written in C/C++, its best virtue is that it is cross-platform, it can run on different operating systems (Linux, Windows, Mac OS X, Android and iOS). It can also be used in different programming languages such as Java, Objective C, C# and **Python**.\n",
    "\n",
    "It is perhaps the most important and most widely used computer vision library. It is used by universities, companies and people in the Maker movement to give free rein to their imagination as it is free software.\n",
    "\n",
    "In this notebook we will start with image processing in Python using this library, more specifically we will see how to load or read an image, conversion to black and white, filters and other operations that will be useful in the course.\n",
    "\n",
    "   \n",
    "<br>\n",
    "</td>\n",
    "</tr>\n",
    "</table>"
   ]
  },
  {
   "cell_type": "markdown",
   "metadata": {},
   "source": [
    "# Basic libraries"
   ]
  },
  {
   "cell_type": "code",
   "execution_count": null,
   "metadata": {},
   "outputs": [],
   "source": [
    "import matplotlib.pyplot as plt\n",
    "import numpy as np\n",
    "import cv2 as cv\n",
    "\n",
    "plt.style.use('seaborn-paper')\n",
    "plt.rc('font', family='serif')"
   ]
  },
  {
   "cell_type": "markdown",
   "metadata": {},
   "source": [
    "# Part 1"
   ]
  },
  {
   "cell_type": "markdown",
   "metadata": {},
   "source": [
    "## 1. Read/load an image"
   ]
  },
  {
   "cell_type": "code",
   "execution_count": null,
   "metadata": {},
   "outputs": [],
   "source": [
    "img = cv.imread('data/hello_world.png')"
   ]
  },
  {
   "cell_type": "markdown",
   "metadata": {},
   "source": [
    "### \"Hello world!“ in **`OpenCV`**: The official way"
   ]
  },
  {
   "cell_type": "markdown",
   "metadata": {},
   "source": [
    "Like everything else in the programming world, it starts with the traditional **`\"Hello world!\"`** and the official way is:\n",
    "```Python\n",
    "import cv2 as cv\n",
    "\n",
    "img = cv.imread('data/hello_world.png')\n",
    "cv.imshow(\"Hello world!\", img)\n",
    "cv.waitKey(0)\n",
    "cv.destroyAllWindows\n",
    "```\n",
    "(This code block is located in the **`hello_world_opencv.py`** file)"
   ]
  },
  {
   "cell_type": "markdown",
   "metadata": {},
   "source": [
    "### \"Hello world!“ in **`OpenCV`**: Jupyter Notebooks"
   ]
  },
  {
   "cell_type": "markdown",
   "metadata": {},
   "source": [
    "The **`OpenCV`** library stores images in the **BGR** (Blue, Green, Red) channel, so we are going to change this _colour space_ to another one, the most used is **RGB** (Red, Green, Blue) to achieve this we use the following"
   ]
  },
  {
   "cell_type": "code",
   "execution_count": null,
   "metadata": {},
   "outputs": [],
   "source": [
    "img = cv.cvtColor( src = img, code = cv.COLOR_BGR2RGB )"
   ]
  },
  {
   "cell_type": "markdown",
   "metadata": {},
   "source": [
    "Where **`src`** and **``code``** are parameters. These mean the object or image and the code of the channel change (in our case it is **RGB** $\\to$ **RGB**), respectively:"
   ]
  },
  {
   "cell_type": "code",
   "execution_count": null,
   "metadata": {},
   "outputs": [],
   "source": [
    "plt.figure( facecolor = '#FFFFFF' )\n",
    "plt.axes().set_facecolor('#FFFFFF')\n",
    "plt.imshow(img)"
   ]
  },
  {
   "cell_type": "markdown",
   "metadata": {},
   "source": [
    "**Note:** If the `cv.cvtColor( src = IMG, code = cv.COLOR_BGR2RGB)` command is not used, the image would look as follows:"
   ]
  },
  {
   "cell_type": "code",
   "execution_count": null,
   "metadata": {},
   "outputs": [],
   "source": [
    "img = cv.imread('data/hello_world.png')\n",
    "plt.figure( facecolor = '#FFFFFF' )\n",
    "plt.axes().set_facecolor('#FFFFFF')\n",
    "plt.imshow(img)"
   ]
  },
  {
   "cell_type": "markdown",
   "metadata": {},
   "source": [
    "## 2. Convertion to greyscale"
   ]
  },
  {
   "cell_type": "markdown",
   "metadata": {},
   "source": [
    "To change to greyscale, we use again the command **`cv.cvtColor()`** with the difference in **`code = cv.COLOR_BGR2GRAY`** ."
   ]
  },
  {
   "cell_type": "code",
   "execution_count": null,
   "metadata": {},
   "outputs": [],
   "source": [
    "img = cv.imread('data/uxmal.jpg')\n",
    "\n",
    "plt.figure( facecolor = '#FFFFFF' )\n",
    "plt.axes().set_facecolor('#FFFFFF')\n",
    "plt.title('Original image', size = 15, pad = 10)\n",
    "plt.imshow(img)"
   ]
  },
  {
   "cell_type": "code",
   "execution_count": null,
   "metadata": {},
   "outputs": [],
   "source": [
    "#convert the color\n",
    "img_gray = cv.cvtColor(src = img, code = cv.COLOR_BGR2GRAY)\n",
    "\n",
    "#display the image\n",
    "plt.figure( facecolor = '#FFFFFF' )\n",
    "plt.axes().set_facecolor('#FFFFFF')\n",
    "plt.imshow(img_gray)"
   ]
  },
  {
   "cell_type": "markdown",
   "metadata": {},
   "source": [
    "We can realise that simply using the **`plt.imshow()`** command is not enough. Recall that an image is an array of pixels:"
   ]
  },
  {
   "cell_type": "code",
   "execution_count": null,
   "metadata": {},
   "outputs": [],
   "source": [
    "img_gray"
   ]
  },
  {
   "cell_type": "markdown",
   "metadata": {},
   "source": [
    "Our greyscale image is an array of numbers between 0 and 255, so it has no other channels. In order to see it in greyscale we will have to add a **`colormap`** or **`cmap`** . This command is ignored when you have images with RGB channels:"
   ]
  },
  {
   "cell_type": "code",
   "execution_count": null,
   "metadata": {},
   "outputs": [],
   "source": [
    "plt.figure( facecolor = '#FFFFFF' )\n",
    "plt.axes().set_facecolor('#FFFFFF')\n",
    "\n",
    "plt.title('Uxmal in gray scale', size = 15, pad = 10)\n",
    "plt.imshow(img_gray, cmap = 'gray' )"
   ]
  },
  {
   "cell_type": "markdown",
   "metadata": {},
   "source": [
    "This can be applied with any other [_colormap_](https://matplotlib.org/tutorials/colors/colormaps.html) :"
   ]
  },
  {
   "cell_type": "code",
   "execution_count": null,
   "metadata": {},
   "outputs": [],
   "source": [
    "plt.figure( facecolor = '#FFFFFF' )\n",
    "plt.axes().set_facecolor('#FFFFFF')\n",
    "\n",
    "plt.title('cmap = \\' RdPu_r \\' ', size = 15, pad = 10)\n",
    "plt.imshow(img_gray, cmap = 'RdPu_r' )"
   ]
  },
  {
   "cell_type": "markdown",
   "metadata": {},
   "source": [
    "## 3. Image manipulation"
   ]
  },
  {
   "cell_type": "markdown",
   "metadata": {},
   "source": [
    "In this section we will change parts of our image:"
   ]
  },
  {
   "cell_type": "markdown",
   "metadata": {},
   "source": [
    "### Changing the colour of a section of the image"
   ]
  },
  {
   "cell_type": "markdown",
   "metadata": {},
   "source": [
    "* New color: **(239, 134, 143)**\n",
    "* Section of the _array_ : **[ :500, :3000, : ]**"
   ]
  },
  {
   "cell_type": "code",
   "execution_count": null,
   "metadata": {},
   "outputs": [],
   "source": [
    "plt.figure( facecolor = '#FFFFFF' )\n",
    "plt.axes().set_facecolor('#FFFFFF')\n",
    "\n",
    "plt.title('Original image', size = 15, pad = 10)\n",
    "\n",
    "plt.imshow(img)"
   ]
  },
  {
   "cell_type": "code",
   "execution_count": null,
   "metadata": {
    "scrolled": true
   },
   "outputs": [],
   "source": [
    "img_rgb = cv.cvtColor( src = img, code = cv.COLOR_BGR2RGB )\n",
    "\n",
    "plt.figure( facecolor = '#FFFFFF' )\n",
    "plt.axes().set_facecolor('#FFFFFF')\n",
    "plt.title('Image in RGB channel', size = 15, pad = 10)\n",
    "plt.imshow(img_rgb)"
   ]
  },
  {
   "cell_type": "code",
   "execution_count": null,
   "metadata": {},
   "outputs": [],
   "source": [
    "img_rgb[ :500, :3000, : ] = [239, 134, 143]\n",
    "\n",
    "plt.figure( facecolor = '#FFFFFF' )\n",
    "plt.axes().set_facecolor('#FFFFFF')\n",
    "plt.title('Image in RGB channel (modified section)',\n",
    "          size = 15,\n",
    "          pad = 10\n",
    "         )\n",
    "plt.imshow(img_rgb)"
   ]
  },
  {
   "cell_type": "markdown",
   "metadata": {},
   "source": [
    "### Image section"
   ]
  },
  {
   "cell_type": "code",
   "execution_count": null,
   "metadata": {},
   "outputs": [],
   "source": [
    "half_img = img_rgb[ :2500, :4000, : ]\n",
    "\n",
    "plt.figure( facecolor = '#FFFFFF' )\n",
    "plt.axes().set_facecolor('#FFFFFF')\n",
    "plt.title('Half image in RGB channel (modified section)',\n",
    "          size = 15,\n",
    "          pad = 10\n",
    "         )\n",
    "plt.imshow(half_img)"
   ]
  },
  {
   "cell_type": "markdown",
   "metadata": {},
   "source": [
    "## 4. Filters"
   ]
  },
  {
   "cell_type": "markdown",
   "metadata": {},
   "source": [
    "Inside **`OpenCV`** we have different filters, the most common are:\n",
    "* `cv.blur()`\n",
    "* `cv.medianBlur()`\n",
    "* `cv.GaussianBlur()`"
   ]
  },
  {
   "cell_type": "code",
   "execution_count": null,
   "metadata": {},
   "outputs": [],
   "source": [
    "img_meanBlur = cv.blur( src = img_gray,\n",
    "                       ksize = (10,10) #kernel size\n",
    "                      )\n",
    "img_medianBlur = cv.medianBlur( img_gray,\n",
    "                               ksize = 23 #kernel size\n",
    "                              )\n",
    "img_gaussianBlur = cv.GaussianBlur( src = img_gray,\n",
    "                                   ksize = (7,7), #kernel size\n",
    "                                   sigmaX = 1, #standar deviation 𝜎x\n",
    "                                   sigmaY = 1 #standar deviation 𝜎y\n",
    "                                  )"
   ]
  },
  {
   "cell_type": "markdown",
   "metadata": {},
   "source": [
    "### Example: Median filter"
   ]
  },
  {
   "cell_type": "code",
   "execution_count": null,
   "metadata": {},
   "outputs": [],
   "source": [
    "plt.figure(figsize= (15, 25), facecolor = '#FFFFFF')\n",
    "plt.axes().set_facecolor('#FFFFFF')\n",
    "plt.title('Median filter in greyscale image',\n",
    "          size = 25,\n",
    "          pad = 15\n",
    "         )\n",
    "plt.imshow(img_medianBlur, cmap = 'gray')"
   ]
  },
  {
   "cell_type": "markdown",
   "metadata": {},
   "source": [
    "## 5. Thresholding "
   ]
  },
  {
   "cell_type": "markdown",
   "metadata": {},
   "source": [
    "Este método nos ayuda a \"binarizar\" las imágenes a nuestra conveniencia ya que le damos un límite, por ejemplo:\n",
    "\n",
    "_Si el pixel vale 150 o menos, entonces cambia su valor a 0. Pero si el pixel es mayor a 150 entonces su valor aumenta a 255_"
   ]
  },
  {
   "cell_type": "code",
   "execution_count": null,
   "metadata": {},
   "outputs": [],
   "source": [
    "#using img_medianBlur\n",
    "thr, img_thr = cv.threshold( img_medianBlur,\n",
    "                            150, #Threshold\n",
    "                            255, #maxval\n",
    "                            cv.THRESH_BINARY #type of threshold\n",
    "                           )\n",
    "\n",
    "plt.figure( facecolor = '#FFFFFF' )\n",
    "plt.axes().set_facecolor('#FFFFFF')\n",
    "\n",
    "plt.title('Median filter in gray scale image with \\n threshold = 150',\n",
    "          size = 15,\n",
    "          pad = 10\n",
    "         )\n",
    "plt.imshow(img_thr, cmap= 'gray')"
   ]
  },
  {
   "cell_type": "markdown",
   "metadata": {},
   "source": [
    "## 6. Resize o cambio de tamaño"
   ]
  },
  {
   "cell_type": "code",
   "execution_count": null,
   "metadata": {},
   "outputs": [],
   "source": [
    "#reduction of the dimension by 98%\n",
    "ratio = 0.02\n",
    "height, width = img.shape[0], img.shape[1]\n",
    "\n",
    "img_r = cv.resize( img_thr, \n",
    "                  ( int(width*ratio), int(height*ratio) ), #new dimensions\n",
    "                  interpolation = cv.INTER_NEAREST\n",
    "                 )\n",
    "\n",
    "plt.figure( facecolor = '#FFFFFF' )\n",
    "plt.axes().set_facecolor('#FFFFFF')\n",
    "plt.title ( 'Reduced image by 98%', size = 15, pad = 10)\n",
    "plt.imshow(img_r, cmap = 'gray')\n"
   ]
  },
  {
   "cell_type": "markdown",
   "metadata": {},
   "source": [
    "## 7. Combination of all _operations_"
   ]
  },
  {
   "cell_type": "code",
   "execution_count": null,
   "metadata": {},
   "outputs": [],
   "source": [
    "#read/load image\n",
    "img = cv.imread('data/uxmal.jpg')\n",
    "\n",
    "#change BGR -> RGB\n",
    "img_rgb = cv.cvtColor( img,cv.COLOR_BGR2RGB)\n",
    "\n",
    "#gray scale convertion\n",
    "img_gray = cv.cvtColor( img,\n",
    "                       code = cv.COLOR_BGR2GRAY\n",
    "                      )\n",
    "\n",
    "#median filter\n",
    "img_medianBlur = cv.medianBlur( img_gray,\n",
    "                               ksize = 23\n",
    "                              )\n",
    "\n",
    "#applying threshold\n",
    "thr, img_thr = cv.threshold( img_medianBlur,\n",
    "                            150,\n",
    "                            255,\n",
    "                            cv.THRESH_BINARY\n",
    "                           )\n",
    "\n",
    "#resize image\n",
    "ratio = 0.02\n",
    "alto, ancho, canales = img.shape\n",
    "\n",
    "img_r = cv.resize( img_thr,\n",
    "                  ( int(ancho*ratio), int(alto*ratio) ),\n",
    "                  interpolation = cv.INTER_NEAREST\n",
    "                 )\n",
    "\n",
    "#plot the results\n",
    "plt.figure( figsize = (15, 8), facecolor = '#FFFFFF' )\n",
    "plt.axes().set_facecolor('#FFFFFF')\n",
    "\n",
    "#original image\n",
    "plt.subplot( 2, 3 , 1 )\n",
    "plt.title( 'Original image (BGR channel)')\n",
    "plt.imshow(img)\n",
    "\n",
    "#RGB image\n",
    "plt.subplot( 2, 3 , 2 )\n",
    "plt.title( 'Uxmal in RGB channel')\n",
    "plt.imshow(img_rgb)\n",
    "\n",
    "#gray scale image\n",
    "plt.subplot( 2, 3 , 3 )\n",
    "plt.title( 'B/W Uxmal')\n",
    "plt.imshow(img_gray, cmap = 'gray')\n",
    "\n",
    "#image with medina filter\n",
    "plt.subplot( 2, 3 , 4 )\n",
    "plt.title( 'B/W + median filter')\n",
    "plt.imshow(img_medianBlur, cmap = 'gray')\n",
    "\n",
    "#threshold\n",
    "plt.subplot( 2, 3 , 5 )\n",
    "plt.title( 'B/W + median filter + threshold(=150)')\n",
    "plt.imshow(img_thr, cmap = 'gray')\n",
    "\n",
    "#resized image\n",
    "plt.subplot( 2, 3 , 6 )\n",
    "plt.title( 'Smaller image')\n",
    "plt.imshow(img_r, cmap = 'gray')"
   ]
  },
  {
   "cell_type": "markdown",
   "metadata": {},
   "source": [
    "# Part 2: My road"
   ]
  },
  {
   "cell_type": "markdown",
   "metadata": {},
   "source": [
    "It is time to use the tools of this first _notebook_ to binarise the road on which our Self-Driving Car will be, but as a first approach it will be a photo of a road clear enough to be binarised, as an example we have the following image:"
   ]
  },
  {
   "cell_type": "code",
   "execution_count": null,
   "metadata": {},
   "outputs": [],
   "source": [
    "road = cv.imread('data/road.jpg')\n",
    "plt.figure(facecolor='white')\n",
    "ax = plt.axes()\n",
    "ax.set_facecolor('white')\n",
    "plt.imshow(road)"
   ]
  },
  {
   "cell_type": "code",
   "execution_count": null,
   "metadata": {},
   "outputs": [],
   "source": [
    "#load image\n",
    "road = cv.imread('data/road.jpg')\n",
    "\n",
    "#cambiar a escala de grises\n",
    "road_gray = cv.cvtColor( src = road, code = cv.COLOR_BGR2GRAY )\n",
    "\n",
    "#aplicar filtro gaussiano\n",
    "road_gaussianBlur = cv.GaussianBlur( src = road_gray,\n",
    "                                    ksize = (33,33),\n",
    "                                    sigmaX = 1,\n",
    "                                    sigmaY = 1\n",
    "                                    )\n",
    "\n",
    "#aplicar el thresholding\n",
    "thr, road_thr = cv.threshold( road_gaussianBlur,\n",
    "                             200, #Threshold\n",
    "                             255, #maxval\n",
    "                             cv.THRESH_BINARY #type of threshold\n",
    "                             )\n",
    "#change dimensions\n",
    "ratio = 0.033\n",
    "height, width = road_thr.shape\n",
    "\n",
    "road_r = cv.resize( road_thr,\n",
    "                   ( int(width*ratio), int(height*ratio) ),\n",
    "                   interpolation = cv.INTER_NEAREST\n",
    "                  )\n",
    "\n",
    "\n",
    "plt.figure( figsize = (15,13), facecolor = '#FFFFFF' )\n",
    "plt.axes().set_facecolor('#FFFFFF')\n",
    "\n",
    "plt.subplot( 2, 3, 1 )\n",
    "plt.title('Original image', size = 15, pad = 10)\n",
    "plt.imshow( road )\n",
    "\n",
    "plt.subplot( 2, 3, 2 )\n",
    "plt.title('B/W road', size = 15, pad = 10)\n",
    "plt.imshow( road_gray, cmap = 'gray' )\n",
    "\n",
    "plt.subplot( 2, 3, 3 )\n",
    "plt.title('B/W road + Gaussian filter', size = 15, pad = 10)\n",
    "plt.imshow( road_gaussianBlur, cmap = 'gray' )\n",
    "\n",
    "plt.subplot( 2, 3, 4 )\n",
    "plt.title('B/W road + Gaussian filter + thresholding', size = 15, pad = 10)\n",
    "plt.imshow( road_thr, cmap = 'gray' )\n",
    "\n",
    "plt.subplot( 2, 3, 5 )\n",
    "plt.title('Smaller road', size = 15, pad = 10)\n",
    "plt.imshow( road_r, cmap = 'gray' )"
   ]
  },
  {
   "cell_type": "code",
   "execution_count": null,
   "metadata": {},
   "outputs": [],
   "source": []
  }
 ],
 "metadata": {
  "hide_input": false,
  "kernelspec": {
   "display_name": "Python 3",
   "language": "python",
   "name": "python3"
  },
  "language_info": {
   "codemirror_mode": {
    "name": "ipython",
    "version": 3
   },
   "file_extension": ".py",
   "mimetype": "text/x-python",
   "name": "python",
   "nbconvert_exporter": "python",
   "pygments_lexer": "ipython3",
   "version": "3.7.9"
  },
  "latex_envs": {
   "LaTeX_envs_menu_present": true,
   "autoclose": false,
   "autocomplete": true,
   "bibliofile": "biblio.bib",
   "cite_by": "apalike",
   "current_citInitial": 1,
   "eqLabelWithNumbers": true,
   "eqNumInitial": 1,
   "hotkeys": {
    "equation": "Ctrl-E",
    "itemize": "Ctrl-I"
   },
   "labels_anchors": false,
   "latex_user_defs": false,
   "report_style_numbering": false,
   "user_envs_cfg": false
  },
  "toc": {
   "base_numbering": 1,
   "nav_menu": {},
   "number_sections": true,
   "sideBar": true,
   "skip_h1_title": false,
   "title_cell": "Table of Contents",
   "title_sidebar": "Contents",
   "toc_cell": false,
   "toc_position": {},
   "toc_section_display": true,
   "toc_window_display": false
  }
 },
 "nbformat": 4,
 "nbformat_minor": 4
}
